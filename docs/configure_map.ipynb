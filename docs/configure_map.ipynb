{
 "cells": [
  {
   "cell_type": "markdown",
   "metadata": {
    "collapsed": true,
    "pycharm": {
     "name": "#%% md\n"
    }
   },
   "source": [
    "# Configure your map\n",
    "\n",
    "The map of the environment can be customized.\n",
    "\n",
    "## How to pass the map to the environment"
   ]
  },
  {
   "cell_type": "code",
   "execution_count": 7,
   "metadata": {
    "pycharm": {
     "name": "#%%\n"
    }
   },
   "outputs": [],
   "source": [
    "\"\"\"Preliminary imports and definitions.\"\"\"\n",
    "\n",
    "import tempfile\n",
    "from io import BytesIO\n",
    "from pathlib import Path\n",
    "from textwrap import dedent\n",
    "\n",
    "import PIL\n",
    "import gym\n",
    "from IPython.core.display import Image, display\n",
    "\n",
    "from gym_sapientino.core.constants import DEFAULT_MAP_PATH\n",
    "\n",
    "\n",
    "def display_img_array(ima):\n",
    "    \"\"\"Display an rgb_array.\"\"\"\n",
    "    im = PIL.Image.fromarray(ima)\n",
    "    bio = BytesIO()\n",
    "    im.save(bio, format=\"png\")\n",
    "    display(Image(bio.getvalue(), format=\"png\"))\n"
   ]
  },
  {
   "cell_type": "markdown",
   "source": [
    "You can use teh `path_to_map` keyword argument\n",
    "to specify the map to use."
   ],
   "metadata": {
    "collapsed": false,
    "pycharm": {
     "name": "#%% md\n"
    }
   }
  },
  {
   "cell_type": "code",
   "execution_count": 8,
   "outputs": [
    {
     "data": {
      "image/png": "[encoded data removed]",
      "text/plain": "<IPython.core.display.Image object>"
     },
     "metadata": {},
     "output_type": "display_data"
    }
   ],
   "source": [
    "env = gym.make(\"Sapientino-v0\", path_to_map=DEFAULT_MAP_PATH)\n",
    "array = env.render(mode=\"rgb_array\")\n",
    "display_img_array(array)"
   ],
   "metadata": {
    "collapsed": false,
    "pycharm": {
     "name": "#%%\n"
    }
   }
  },
  {
   "cell_type": "markdown",
   "source": [
    "## Map format\n",
    "\n",
    "The default map is in `gym_sapientino/assets/default_map.txt`.\n",
    "\n",
    "The code expects the path to point to a text file of ASCII characters.\n",
    "Each rows of characters correspond to a row of cells in the grid of the environment.\n",
    "\n",
    "The allowed characters are:\n",
    "\n",
    "- ` ` (a space), the empty cell;\n",
    "- `r`, a cell with color red;\n",
    "- `g`, a cell with color green;\n",
    "- `b`, a cell with color blue;\n",
    "- `y`, a cell with color yellow;\n",
    "- `p`, a cell with color pink;\n",
    "- `o`, a cell with color orange;\n",
    "- `B`, a cell with color brown;\n",
    "- `G`, a cell with color gray;\n",
    "- `P`, a cell with color purple;\n",
    "\n",
    "The character `|` will be ignored. It is useful as a separator of rows\n",
    "during the editing (some text editors might remove trailing spaces of a row).\n",
    "\n",
    "For example, the default grid map is:\n",
    "```\n",
    "|P bB g |\n",
    "| bp G r|\n",
    "|G   pg |\n",
    "| rpG PB|\n",
    "|rP Bg b|\n",
    "```\n",
    "\n",
    "## Example of custom map\n",
    "\n",
    "An example of custom map:"
   ],
   "metadata": {
    "collapsed": false,
    "pycharm": {
     "name": "#%% md\n"
    }
   }
  },
  {
   "cell_type": "code",
   "execution_count": 10,
   "outputs": [
    {
     "data": {
      "image/png": "[encoded data removed]",
      "text/plain": "<IPython.core.display.Image object>"
     },
     "metadata": {},
     "output_type": "display_data"
    }
   ],
   "source": [
    "temporary_path = Path(tempfile.mktemp(suffix=\".txt\"))\n",
    "temporary_path.write_text(dedent(\"\"\"\\\n",
    "|       |\n",
    "| r g b |\n",
    "|       |\n",
    "| y p B |\n",
    "|       |\"\"\"))\n",
    "env = gym.make(\"Sapientino-v0\", path_to_map=temporary_path)\n",
    "array = env.render(mode=\"rgb_array\")\n",
    "display_img_array(array)\n"
   ],
   "metadata": {
    "collapsed": false,
    "pycharm": {
     "name": "#%%\n"
    }
   }
  }
 ],
 "metadata": {
  "kernelspec": {
   "display_name": "Python 3",
   "language": "python",
   "name": "python3"
  },
  "language_info": {
   "codemirror_mode": {
    "name": "ipython",
    "version": 3
   },
   "file_extension": ".py",
   "mimetype": "text/x-python",
   "name": "python",
   "nbconvert_exporter": "python",
   "pygments_lexer": "ipython3",
   "version": "3.7.6"
  }
 },
 "nbformat": 4,
 "nbformat_minor": 1
}