{
 "cells": [
  {
   "cell_type": "markdown",
   "metadata": {
    "collapsed": true,
    "pycharm": {
     "name": "#%% md\n"
    }
   },
   "source": [
    "# Quickstart\n",
    "\n",
    "In this section, we will see the main use cases with the Sapientino environment.\n",
    "\n",
    "The environment is supposed to be configurable.\n",
    "At the moment, there isn't a default goal to achieve.\n",
    "The reward should be customized before using the environment."
   ]
  },
  {
   "cell_type": "markdown",
   "metadata": {
    "pycharm": {
     "name": "#%% md\n"
    }
   },
   "source": [
    "## Using Gym registry\n"
   ]
  },
  {
   "cell_type": "code",
   "execution_count": 2,
   "metadata": {
    "pycharm": {
     "name": "#%%\n"
    }
   },
   "outputs": [],
   "source": [
    "import gym\n",
    "import gym_sapientino\n",
    "env = gym.make(\"Sapientino-v0\")"
   ]
  },
  {
   "cell_type": "markdown",
   "metadata": {
    "pycharm": {
     "name": "#%% md\n"
    }
   },
   "source": [
    "The initial state is:\n",
    "\n",
    "<center>\n",
    "    <img src=\"http://127.0.0.1:8000/initial-frame.jpeg\">\n",
    "</center>\n"
   ]
  },
  {
   "cell_type": "markdown",
   "metadata": {
    "pycharm": {
     "name": "#%% md\n"
    }
   },
   "source": [
    "## Building the environment programmatically\n",
    "\n",
    "First, we set up an agent configuration:"
   ]
  },
  {
   "cell_type": "code",
   "execution_count": 3,
   "metadata": {
    "pycharm": {
     "name": "#%%\n"
    }
   },
   "outputs": [],
   "source": [
    "from gym_sapientino.core.configurations import SapientinoAgentConfiguration\n",
    "\n",
    "agent_config = SapientinoAgentConfiguration(differential=False)"
   ]
  },
  {
   "cell_type": "markdown",
   "metadata": {
    "pycharm": {
     "name": "#%% md\n"
    }
   },
   "source": [
    "Next, we define the configuration for the environment:"
   ]
  },
  {
   "cell_type": "code",
   "execution_count": 4,
   "metadata": {
    "pycharm": {
     "name": "#%%\n"
    }
   },
   "outputs": [],
   "source": [
    "from gym_sapientino.core.configurations import SapientinoConfiguration\n",
    "from gym_sapientino import SapientinoDictSpace\n",
    "\n",
    "agent_configs = [agent_config,]\n",
    "environment_configuration = SapientinoConfiguration(\n",
    "    agent_configs=agent_configs,\n",
    "    reward_outside_grid=-1.0,\n",
    "    reward_duplicate_beep=-1.0,\n",
    "    reward_per_step=-0.01\n",
    ")"
   ]
  },
  {
   "cell_type": "markdown",
   "metadata": {
    "pycharm": {
     "name": "#%% md\n"
    }
   },
   "source": [
    "The description of the arguments:\n",
    "\n",
    "- `agent_configs`: the list of agent configurations (provide more than one for multi-agent setting)\n",
    "- `reward_outside_grid`: the reward to give when the robot tries to go outside the grid.\n",
    "- `reward_duplicate_beep`:  the reward to give when the robot does a beep in a cell where the beep has been already done.\n",
    "- `reward_per_step`: the reward to give at each step.\n",
    "\n",
    "Then, instantiate the environment:"
   ]
  },
  {
   "cell_type": "code",
   "execution_count": 5,
   "metadata": {
    "pycharm": {
     "name": "#%%\n"
    }
   },
   "outputs": [
    {
     "name": "stdout",
     "output_type": "stream",
     "text": [
      "Observation space: Tuple(Dict(beep:Discrete(2), color:Discrete(8), x:Discrete(7), y:Discrete(5)))\n",
      "Action space: Tuple(Discrete(6))\n",
      "Initial state: ({'x': 1, 'y': 2, 'theta': 1, 'beep': 0, 'color': 0},)\n"
     ]
    }
   ],
   "source": [
    "env = SapientinoDictSpace(environment_configuration)\n",
    "print(f\"Observation space: {env.observation_space}\")\n",
    "print(f\"Action space: {env.action_space}\")\n",
    "initial_state = env.reset()\n",
    "print(f\"Initial state: {initial_state}\")"
   ]
  },
  {
   "cell_type": "markdown",
   "metadata": {
    "pycharm": {
     "name": "#%% md\n"
    }
   },
   "source": [
    "The observation space of the wrapper `SapientinoDictSpace`\n",
    "is a tuple of dictionaries (one for each agent) of the following form:\n",
    "\n",
    "- `x`, the $x$-coordinate of the robot in the grid\n",
    "- `y`, the $y$-coordinate of the robot in the grid\n",
    "- `discrete_x`, the $x$-coordinate of the robot in the grid, discretized.\n",
    "- `discrete_y`, the $y$-coordinate of the robot in the grid, discretized.\n",
    "- `velocity`, the module of the velocity of the robot.\n",
    "- `angle`, the direction of the robot.\n",
    "- `theta`, the orientation of the robot in the grid\n",
    "  (that is, either $0^\\circ$, $90^\\circ$, $180^\\circ$ or $270^\\circ$, discretized so to be between $0$ and $3$).\n",
    "  This attribute is only present in the `differential` mode (see below).\n",
    "- `beep`, a boolean that tells whether the last action was a beep.\n",
    "- `color`, the currently observed color (blank color is $0$).\n",
    "\n",
    "In the single-agent configuration,\n",
    "there would be a tuple of only one such observation.\n",
    "\n",
    "The action space is either \"directional\" (up, down, left, right)\n",
    "or \"differential\" (\"turn left\", \"turn right\", \"forward\", \"backward\"),\n",
    "plus a \"nop\" action and a \"beep\" action.\n",
    "The boolean argument `differential` in the agent configuration\n",
    "controls the action spaces of the associated agent.\n",
    "\n",
    "Example of directional agent:\n",
    "\n",
    "<center>\n",
    "    <img src=\"/directional.gif\">\n",
    "</center>\n",
    "\n",
    "Exmaple of differential agent:\n",
    "\n",
    "<center>\n",
    "    <img src=\"/differential.gif\">\n",
    "</center>\n",
    "\n",
    "With `continuous=True`, you can enable continuous\n",
    "state space, i.e.:\n",
    "\n",
    "<center>\n",
    "    <img src=\"/continuous.gif\">\n",
    "</center>\n",
    "\n",
    "## Multiagent setup\n",
    "\n",
    "It is possible to have multiple agents in the same grid."
   ]
  },
  {
   "cell_type": "code",
   "execution_count": 6,
   "outputs": [
    {
     "name": "stdout",
     "output_type": "stream",
     "text": [
      "Observation space: Tuple(Dict(beep:Discrete(2), color:Discrete(8), x:Discrete(7), y:Discrete(5)), Dict(beep:Discrete(2), color:Discrete(8), theta:Discrete(4), x:Discrete(7), y:Discrete(5)), Dict(beep:Discrete(2), color:Discrete(8), theta:Discrete(4), x:Discrete(7), y:Discrete(5)))\n",
      "Action space: Tuple(Discrete(6), Discrete(6), Discrete(6))\n",
      "Initial state: ({'x': 1, 'y': 2, 'theta': 1, 'beep': 0, 'color': 0}, {'x': 3, 'y': 2, 'theta': 1, 'beep': 0, 'color': 0}, {'x': 5, 'y': 2, 'theta': 1, 'beep': 0, 'color': 2})\n"
     ]
    }
   ],
   "source": [
    "a1 = SapientinoAgentConfiguration(differential=False)\n",
    "a2 = SapientinoAgentConfiguration(differential=True)\n",
    "a3 = SapientinoAgentConfiguration(differential=True)\n",
    "agent_configs = [a1, a2, a3]\n",
    "environment_configuration = SapientinoConfiguration(\n",
    "    agent_configs=agent_configs,\n",
    ")\n",
    "env = SapientinoDictSpace(environment_configuration)\n",
    "print(f\"Observation space: {env.observation_space}\")\n",
    "print(f\"Action space: {env.action_space}\")\n",
    "initial_state = env.reset()\n",
    "print(f\"Initial state: {initial_state}\")"
   ],
   "metadata": {
    "collapsed": false,
    "pycharm": {
     "name": "#%%\n"
    }
   }
  },
  {
   "cell_type": "markdown",
   "source": [
    "Here an example of a random run:\n",
    "\n",
    "<center>\n",
    "    <img src=\"/marl.gif\">\n",
    "</center>"
   ],
   "metadata": {
    "collapsed": false,
    "pycharm": {
     "name": "#%% md\n"
    }
   }
  },
  {
   "cell_type": "code",
   "execution_count": null,
   "metadata": {},
   "outputs": [],
   "source": []
  }
 ],
 "metadata": {
  "kernelspec": {
   "display_name": "Python 3",
   "language": "python",
   "name": "python3"
  },
  "language_info": {
   "codemirror_mode": {
    "name": "ipython",
    "version": 3
   },
   "file_extension": ".py",
   "mimetype": "text/x-python",
   "name": "python",
   "nbconvert_exporter": "python",
   "pygments_lexer": "ipython3",
   "version": "3.7.6"
  }
 },
 "nbformat": 4,
 "nbformat_minor": 1
}