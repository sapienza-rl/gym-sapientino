{
 "cells": [
  {
   "cell_type": "markdown",
   "metadata": {
    "collapsed": true,
    "jupyter": {
     "outputs_hidden": true
    },
    "pycharm": {
     "name": "#%% md\n"
    }
   },
   "source": [
    "# Quickstart\n",
    "\n",
    "In this section, we will see the main use cases with the Sapientino environment.\n",
    "\n",
    "The environment is supposed to be configurable.\n",
    "At the moment, there isn't a default goal to achieve.\n",
    "The reward should be customized before using the environment."
   ]
  },
  {
   "cell_type": "code",
   "execution_count": 1,
   "metadata": {
    "pycharm": {
     "name": "#%%\n"
    }
   },
   "outputs": [],
   "source": [
    "import gymnasium as gym\n",
    "import gym_sapientino as sapientino"
   ]
  },
  {
   "cell_type": "markdown",
   "metadata": {
    "pycharm": {
     "name": "#%% md\n"
    }
   },
   "source": [
    "## Building the environment\n",
    "\n",
    "First, we set up an agent configuration:"
   ]
  },
  {
   "cell_type": "code",
   "execution_count": 2,
   "metadata": {
    "pycharm": {
     "name": "#%%\n"
    }
   },
   "outputs": [],
   "source": [
    "agent_config = sapientino.configurations.SapientinoAgentConfiguration(\n",
    "    initial_position=[1,1],\n",
    "    commands=sapientino.actions.GridCommand,\n",
    "    # Other agent parameters here\n",
    ")"
   ]
  },
  {
   "cell_type": "markdown",
   "metadata": {
    "pycharm": {
     "name": "#%% md\n"
    }
   },
   "source": [
    "Next, we define the configuration for the environment:"
   ]
  },
  {
   "cell_type": "code",
   "execution_count": 4,
   "metadata": {
    "pycharm": {
     "name": "#%%\n"
    }
   },
   "outputs": [],
   "source": [
    "agent_configs = [agent_config,]\n",
    "environment_config = sapientino.configurations.SapientinoConfiguration(\n",
    "    agent_configs=agent_configs,\n",
    "    reward_outside_grid=-1.0,\n",
    "    reward_duplicate_beep=-1.0,\n",
    "    reward_per_step=-0.01,\n",
    "    #grid_map= ascii_str,\n",
    ")"
   ]
  },
  {
   "cell_type": "markdown",
   "metadata": {
    "pycharm": {
     "name": "#%% md\n"
    }
   },
   "source": [
    "The description of the arguments:\n",
    "\n",
    "- `agent_configs`: the list of agent configurations (provide more than one for multi-agent setting)\n",
    "- `reward_outside_grid`: the reward to give when the robot tries to go outside the grid.\n",
    "- `reward_duplicate_beep`:  the reward to give when the robot does a beep in a cell where the beep has been already done.\n",
    "- `reward_per_step`: the reward to give at each step.\n",
    "\n",
    "Then, instantiate the environment:"
   ]
  },
  {
   "cell_type": "code",
   "execution_count": 5,
   "metadata": {
    "pycharm": {
     "name": "#%%\n"
    }
   },
   "outputs": [
    {
     "name": "stdout",
     "output_type": "stream",
     "text": [
      "Observation space: Tuple(Dict('angle': Box(0.0, 360.0, (1,), float32), 'beep': Discrete(2), 'color': Discrete(11), 'discrete_x': Discrete(7), 'discrete_y': Discrete(5), 'theta': Discrete(4), 'velocity': Box(-0.1, 0.2, (1,), float32), 'x': Box(0.0, 7.0, (1,), float32), 'y': Box(0.0, 5.0, (1,), float32)))\n",
      "Action space: Tuple(Discrete(6))\n",
      "Initial state: (({'discrete_x': 1, 'discrete_y': 1, 'x': array([1.], dtype=float32), 'y': array([1.], dtype=float32), 'velocity': array([0.], dtype=float32), 'theta': 1, 'angle': array([90.], dtype=float32), 'beep': 0, 'color': 4},), {})\n"
     ]
    }
   ],
   "source": [
    "env = sapientino.Sapientino(environment_config)\n",
    "print(f\"Observation space: {env.observation_space}\")\n",
    "print(f\"Action space: {env.action_space}\")\n",
    "initial_state = env.reset()\n",
    "print(f\"Initial state: {initial_state}\")"
   ]
  },
  {
   "cell_type": "markdown",
   "metadata": {
    "pycharm": {
     "name": "#%% md\n"
    }
   },
   "source": [
    "The observation space\n",
    "is a tuple of dictionaries (one for each agent) of the following form:\n",
    "\n",
    "- `x`, the $x$-coordinate of the robot in the grid\n",
    "- `y`, the $y$-coordinate of the robot in the grid\n",
    "- `discrete_x`, the $x$-coordinate of the robot in the grid, discretized.\n",
    "- `discrete_y`, the $y$-coordinate of the robot in the grid, discretized.\n",
    "- `velocity`, the module of the velocity of the robot.\n",
    "- `angle`, the direction of the robot.\n",
    "- `theta`, the orientation of the robot in the grid\n",
    "  (that is, either $0^\\circ$, $90^\\circ$, $180^\\circ$ or $270^\\circ$, discretized so to be between $0$ and $3$).\n",
    "  This attribute is only present in the `differential` mode (see below).\n",
    "- `beep`, a boolean that tells whether the last action was a beep.\n",
    "- `color`, the currently observed color (blank color is $0$).\n",
    "\n",
    "In the single-agent configuration,\n",
    "there would be a tuple of only one such observation.\n",
    "\n",
    "The action space is either \"directional\" (up, down, left, right)\n",
    "or \"differential\" (\"turn left\", \"turn right\", \"forward\", \"backward\"),\n",
    "plus a \"nop\" action and a \"beep\" action.\n",
    "The boolean argument `differential` in the agent configuration\n",
    "controls the action spaces of the associated agent.\n",
    "\n",
    "Example of directional agent:\n",
    "\n",
    "<center>\n",
    "    <img src=\"/directional.gif\">\n",
    "</center>\n",
    "\n",
    "Exmaple of differential agent:\n",
    "\n",
    "<center>\n",
    "    <img src=\"/differential.gif\">\n",
    "</center>\n",
    "\n",
    "With `continuous=True`, you can enable continuous\n",
    "state space, i.e.:\n",
    "\n",
    "<center>\n",
    "    <img src=\"/continuous.gif\">\n",
    "</center>\n",
    "\n",
    "## Multiagent setup\n",
    "\n",
    "It is possible to have multiple agents in the same grid by passing more than one `agent_config`."
   ]
  }
 ],
 "metadata": {
  "kernelspec": {
   "display_name": "Python 3 (ipykernel)",
   "language": "python",
   "name": "python3"
  },
  "language_info": {
   "codemirror_mode": {
    "name": "ipython",
    "version": 3
   },
   "file_extension": ".py",
   "mimetype": "text/x-python",
   "name": "python",
   "nbconvert_exporter": "python",
   "pygments_lexer": "ipython3",
   "version": "3.9.18"
  }
 },
 "nbformat": 4,
 "nbformat_minor": 4
}
